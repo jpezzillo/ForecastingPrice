{
 "cells": [
  {
   "cell_type": "code",
   "execution_count": 1,
   "metadata": {},
   "outputs": [],
   "source": [
    "# This notebook is to source from alpha vantage and store it"
   ]
  },
  {
   "cell_type": "code",
   "execution_count": 2,
   "metadata": {},
   "outputs": [],
   "source": [
    "from alpha_vantage.timeseries import TimeSeries\n",
    "from alpha_vantage.techindicators import TechIndicators\n",
    "import pandas as pd\n",
    "import key\n",
    "from fbprophet import Prophet\n",
    "import time"
   ]
  },
  {
   "cell_type": "code",
   "execution_count": 3,
   "metadata": {},
   "outputs": [],
   "source": [
    "def getStockPriceClose(x):\n",
    "    if type(x) == str:\n",
    "        # get stock price time series\n",
    "        ts = TimeSeries(key=key.apiKey, output_format='pandas')\n",
    "        x = ts.get_daily(symbol=x)\n",
    "        x = x[0]\n",
    "        # get tech indicators dictionary\n",
    "        ti = TechIndicators(key=key.apiKey)\n",
    "        y,w = ti.get_rsi(symbol='TSLA',time_period=90,interval=\"daily\")\n",
    "        y = pd.DataFrame.from_dict(y)\n",
    "        y = y.melt()\n",
    "        y[\"variable\"] = pd.to_datetime(y[\"variable\"])\n",
    "        x = x.merge(right=y,left_on=\"date\",right_on=\"variable\")\n",
    "        return x\n",
    "    else:\n",
    "        return \"Functin only accepts string\""
   ]
  },
  {
   "cell_type": "code",
   "execution_count": 4,
   "metadata": {},
   "outputs": [],
   "source": [
    "# get data for certain stock and store\n",
    "# max 5 calls per minute\n",
    "for i in [\"TSLA\",\"MSFT\",\"ATVI\",\"AMZN\",\"GOOGL\",\"ZM\",\"NFLX\"]:\n",
    "    x = getStockPriceClose(i)\n",
    "    str_ = i + \".pkl\"\n",
    "    x.to_pickle(str_)\n",
    "    time.sleep(31) # sleep to not hit max calls per minute\n",
    "print(\"Complete\")\n"
   ]
  },
  {
   "cell_type": "code",
   "execution_count": null,
   "metadata": {},
   "outputs": [],
   "source": []
  }
 ],
 "metadata": {
  "language_info": {
   "codemirror_mode": {
    "name": "ipython",
    "version": 3
   },
   "file_extension": ".py",
   "mimetype": "text/x-python",
   "name": "python",
   "nbconvert_exporter": "python",
   "pygments_lexer": "ipython3",
   "version": "3.7.6-final"
  },
  "orig_nbformat": 2,
  "kernelspec": {
   "name": "python3",
   "display_name": "Python 3"
  }
 },
 "nbformat": 4,
 "nbformat_minor": 2
}